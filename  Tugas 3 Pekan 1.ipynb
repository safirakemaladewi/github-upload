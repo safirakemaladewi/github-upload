{
 "cells": [
  {
   "cell_type": "markdown",
   "metadata": {
    "colab_type": "text",
    "id": "a9HYUdCUsrKl"
   },
   "source": [
    "<h2>Soal 1: Comparison Operator</h2>\n",
    "\n",
    "- Berikan contoh comparison dari tipe data string\n",
    "- Berikan contoh comparison dari tipe data boolean\n",
    "- Berikan contoh comparison dari tipe data integer"
   ]
  },
  {
   "cell_type": "code",
   "execution_count": 4,
   "metadata": {
    "colab": {},
    "colab_type": "code",
    "id": "lXMCHZ71srKp"
   },
   "outputs": [
    {
     "name": "stdout",
     "output_type": "stream",
     "text": [
      "Saya sangat suka buah mangga\n",
      "====================================================================================================\n",
      "Apakah seseorang berusia 22 tahun dapat mengikuti seleksi cpns? True\n",
      "Apakah seseorang berusia 40 tahun dapat mengikuti seleksi cpns? False\n",
      "====================================================================================================\n",
      "nilai anda adalah B\n"
     ]
    }
   ],
   "source": [
    "# comparison operator dengan tipe data: string\n",
    "\n",
    "fruit = ['pisang', 'apel', 'stroberi', 'mangga','jeruk']\n",
    "\n",
    "a = \"mangga\"\n",
    " \n",
    "#operator logika\n",
    "\n",
    "if a in fruit:\n",
    "    print(\"Saya sangat suka buah\", a)\n",
    "\n",
    "if not a in fruit:\n",
    "    print(\"Saya tidak suka dengan buah ini\")\n",
    "    \n",
    "print(100*'=')\n",
    "    \n",
    "# comparison operator dengan tipe data: boolean\n",
    "\n",
    "def seleksi_cpns(age):\n",
    "    \"\"\"Pada usia berapakah anda bisa mengikuti seleksi cpns?\"\"\"\n",
    "    # Panitia penyelenggara seleksi akan mengatakan, \"anda harus berada pada rentang usia 18 - 35 tahun\"\n",
    "    return 18 <= age <= 35\n",
    "\n",
    "print (\"Apakah seseorang berusia 22 tahun dapat mengikuti seleksi cpns?\", seleksi_cpns(22))\n",
    "\n",
    "print (\"Apakah seseorang berusia 40 tahun dapat mengikuti seleksi cpns?\", seleksi_cpns(40))\n",
    "\n",
    "print(100*'=')\n",
    "\n",
    "#comparison operator dengan tipe data: integer\n",
    "\n",
    "nilai = 70\n",
    "\n",
    "if 80 <=nilai <=100:\n",
    "    print(\"nilai anda adalah A\")\n",
    "elif 70 <=nilai <80:\n",
    "    print(\"nilai anda adalah B\")\n",
    "elif 60 <=nilai <70:\n",
    "    print(\"nilai anda adalah C\")\n",
    "elif 50 <=nilai <60:\n",
    "    print(\"nilai anda adalah T, lakukan perbaikan\")\n",
    "else:\n",
    "    print(\"maaf anda tidak lulus mata kuliah Perancangan Dasar\")\n",
    "    "
   ]
  },
  {
   "cell_type": "markdown",
   "metadata": {
    "colab_type": "text",
    "id": "IbNoZvVssrK5"
   },
   "source": [
    "<h2>Soal 2: Boolean Comparison</h2>\n",
    "\n",
    "- Berikan contoh gabungan multiple comparison menggunkan Boolean Comparisin 'and'\n",
    "- Berikan contoh gabungan multiple comparison menggunkan Boolean Comparisin 'or'\n",
    "- Berikan contoh gabungan multiple comparison menggunkan Boolean Comparisin 'not'"
   ]
  },
  {
   "cell_type": "code",
   "execution_count": 7,
   "metadata": {
    "colab": {},
    "colab_type": "code",
    "id": "7eU1vPLCsrK7"
   },
   "outputs": [
    {
     "name": "stdout",
     "output_type": "stream",
     "text": [
      "True\n",
      "False\n",
      "False\n",
      "====================================================================================================\n",
      "False\n",
      "True\n",
      "True\n",
      "====================================================================================================\n",
      "True\n",
      "True\n",
      "False\n"
     ]
    }
   ],
   "source": [
    "# multiple comparison menggunakan Boolean Comparison 'and'\n",
    "\n",
    "def seleksi_cpns(usia, warga_negara_Indonesia):\n",
    "    \"\"\"Apakah persyaratan kewarganegaraan dan usia yang dapat mengikuti seleksi cpns?\"\"\"\n",
    "    # Panitia penyelenggara seleksi akan mengatakan, \"anda harus seorang warga negara Indonesia *dan* berusia maksimal 35 tahun\"\n",
    "    return warga_negara_Indonesia and (usia <= 35)\n",
    "\n",
    "print (seleksi_cpns(22, True))\n",
    "print (seleksi_cpns(26, False))\n",
    "print (seleksi_cpns(40, True))\n",
    "\n",
    "print(100*'=')\n",
    "\n",
    "# multiple comparison menggunakan Boolean Comparison 'or'\n",
    "\n",
    "def seleksi_cpns(pengalaman_kerja, prestasi):\n",
    "    \"\"\"Apakah persyaratan lainnya yang dapat mengikuti seleksi cpns?\"\"\"\n",
    "    # Panitia penyelenggara seleksi akan mengatakan, \"anda memiliki prestasi akademik atau non-akademik *atau* memiliki pengalaman kerja minimal 2 tahun\"\n",
    "    return prestasi or (pengalaman_kerja >= 2)\n",
    "\n",
    "print (seleksi_cpns(1, False))\n",
    "print (seleksi_cpns(3, False))\n",
    "print (seleksi_cpns(5, True))\n",
    "\n",
    "print(100*'=')\n",
    "\n",
    "# multiple comparison menggunakan Boolean Comparison 'not'\n",
    "\n",
    "def seleksi_cpns(usia):\n",
    "    \"\"\"Apakah persyaratan usia yang dapat mengikuti seleksi cpns?\"\"\"\n",
    "    # Panitia penyelenggara seleksi akan mengatakan, \"anda tidak berusia di atas 35 tahun\"\n",
    "    return not (usia > 35)\n",
    "\n",
    "print (seleksi_cpns(24))\n",
    "print (seleksi_cpns(20))\n",
    "print (seleksi_cpns(45))\n",
    "\n",
    "\n"
   ]
  },
  {
   "cell_type": "markdown",
   "metadata": {
    "colab_type": "text",
    "id": "Yp_g_sPMsrLH"
   },
   "source": [
    "<h2>Soal 3: If-Else Statement</h2>\n",
    "\n",
    "Lengkapi kode untuk menghasilkan suatu output yang di harapkan\n",
    "\n",
    "- Bualah sebuah if-else statement yang dimana akan mem-print 'Besar' jika ruangan adalah 'Kamar' dan ukuran lebih dari 12, kemudian mem-print 'Sedang' jika ruangan adalah 'Kamar' dan ukuran lebih dari 6 dan memprint 'Kecil' jika ruangan adalah 'Kamar' dan ukuran ruangan lebih kecil dan sama dengan 6."
   ]
  },
  {
   "cell_type": "code",
   "execution_count": 9,
   "metadata": {
    "colab": {},
    "colab_type": "code",
    "id": "euRiRNupsrLK"
   },
   "outputs": [
    {
     "name": "stdout",
     "output_type": "stream",
     "text": [
      "Besar\n"
     ]
    }
   ],
   "source": [
    "ruangan = 'Kamar'\n",
    "size = 20\n",
    "\n",
    "if ruangan == 'Kamar'and size > 12:\n",
    "    print('Besar')\n",
    "\n",
    "elif ruangan == 'Kamar' and size > 6:\n",
    "    print('Sedang')\n",
    "    \n",
    "elif ruangan == 'Kamar' and size <=6:\n",
    "    print('Kecil')"
   ]
  },
  {
   "cell_type": "markdown",
   "metadata": {
    "colab_type": "text",
    "id": "IcoJXJT1srLW"
   },
   "source": [
    "<h2>Soal 4: Comparison Operator dengan fungsi</h2>\n",
    "\n",
    "Buatlah sebuah fungsi yang menerima satu argument bertipe data numeric dan menghasilkan sebuah return sebagai berikut :\n",
    "- menghasilkan return 'Aneh' jika nilai dari argument tersebut adalah bilangan ganjil\n",
    "- menghasilkan return 'Tidak Aneh' jika nilai dari argument tersebut adalah bilangan genap dan diantara nilai 2 sampai 5 (2 dan 5 termasuk)\n",
    "- menghasilkan return 'Aneh' jika nilai dari argument tersebut adalah bilangan genap dan diantara nilai 6 sampai 20 (6 dan 20 termasuk)\n",
    "- menghasilkan return 'Tidak Aneh' jika nilai dari argument tersebut adalah bilangan genap dan lebih besari dari 20"
   ]
  },
  {
   "cell_type": "code",
   "execution_count": 11,
   "metadata": {
    "colab": {},
    "colab_type": "code",
    "id": "g8F_qfEKsrLZ"
   },
   "outputs": [
    {
     "name": "stdout",
     "output_type": "stream",
     "text": [
      "Aneh\n",
      "Tidak Aneh\n",
      "Aneh\n",
      "Tidak Aneh\n"
     ]
    }
   ],
   "source": [
    "# Buat fungsi\n",
    "\n",
    "def bilangan(x):\n",
    "    if x % 2 != 0:\n",
    "        return('Aneh')\n",
    "    elif x % 2 == 0 and 2 <= x <= 5:\n",
    "        return('Tidak Aneh')\n",
    "    elif x % 2 == 0 and 6 <= x <= 20:\n",
    "        return('Aneh')\n",
    "    else:\n",
    "        return('Tidak Aneh')\n",
    "\n",
    "print (bilangan(27))\n",
    "print (bilangan(4))\n",
    "print (bilangan(10))\n",
    "print (bilangan(100))"
   ]
  },
  {
   "cell_type": "markdown",
   "metadata": {
    "colab_type": "text",
    "id": "gf0D64xOsrLl"
   },
   "source": [
    "<h2>Soal 5: While Loop dan For Loop</h2>\n",
    "\n",
    "- Apa perbedaan while loop dan for loop?\n",
    "- Berikan contoh sederhana cara menggunakan while loop dan for loop"
   ]
  },
  {
   "cell_type": "markdown",
   "metadata": {},
   "source": [
    "While loop akan terus menerus melakukan looping sampai memenuhi suatu kondisi atau parameter tertentu untuk memberhentikan looping. Argumen dari while loop dievaluasi setiap looping dan loop dijalankan sampai hasil evaluasi dari conditional operator bernilai \"False\". Sedangkan for loop digunakan untuk mengeksekusi yang tidak perlu menambahkan parameter atau suatu kondisi tertentu yang terus berubah."
   ]
  },
  {
   "cell_type": "code",
   "execution_count": 13,
   "metadata": {
    "colab": {},
    "colab_type": "code",
    "id": "l7KIgpjHsrLo"
   },
   "outputs": [
    {
     "name": "stdout",
     "output_type": "stream",
     "text": [
      "nilai angka adalah 0\n",
      "nilai angka adalah 1\n",
      "nilai angka adalah 2\n",
      "nilai angka adalah 3\n",
      "nilai angka adalah 4\n",
      "nilai angka adalah 5\n",
      "nilai angka adalah 6\n",
      "nilai angka adalah 7\n",
      "nilai angka adalah 8\n",
      "nilai angka adalah 9\n",
      "nilai angka diakhir while loop adalah 10\n",
      "====================================================================================================\n",
      "Dina\n",
      "4\n",
      "Tania\n",
      "5\n",
      "Syifa\n",
      "5\n",
      "Gita\n",
      "4\n",
      "Dewi\n",
      "4\n",
      "Safira\n",
      "6\n"
     ]
    }
   ],
   "source": [
    "# contoh penerapan while Loop\n",
    "\n",
    "i = 0\n",
    "while i < 10:\n",
    "    print('nilai angka adalah', i)\n",
    "    i += 1\n",
    "else:\n",
    "    print('nilai angka diakhir while loop adalah', i)\n",
    "    \n",
    "print (100*'=')\n",
    "\n",
    "# For Loop\n",
    "nama = ['Dina', 'Tania', 'Syifa', 'Gita', 'Dewi', 'Safira']\n",
    "\n",
    "for mahasiswa in nama:\n",
    "    print(mahasiswa)\n",
    "    print(len(mahasiswa))"
   ]
  },
  {
   "cell_type": "markdown",
   "metadata": {
    "colab_type": "text",
    "id": "fZQpBGCgsrLz"
   },
   "source": [
    "Soal 6: While Loop</h2>\n",
    "    \n",
    "Buatlah sebuah code while loop sebagai berikut :\n",
    "- Buatlah suatu fungsi yang merima satu input nilai numeric\n",
    "- Dalam fungsi, Buat sebuah while-loop dengan melakukan comparasi terhadap inputan tersebut, dimana looping/iterasi terus berjalan apabila nilai inputan tidak sama dengan 0\n",
    "- Dalam setiap iterasi update nilai variable inputan itu, jika input lebih dari 0, maka kurangi variabel tersebut sebesar 1, selain itu tambahkan 1\n",
    "- print nilai variable input dalam setiap awal iterasi"
   ]
  },
  {
   "cell_type": "code",
   "execution_count": 14,
   "metadata": {
    "colab": {},
    "colab_type": "code",
    "id": "yOiqjrU2srL1"
   },
   "outputs": [
    {
     "name": "stdout",
     "output_type": "stream",
     "text": [
      "10\n",
      "9\n",
      "8\n",
      "7\n",
      "6\n",
      "5\n",
      "4\n",
      "3\n",
      "2\n",
      "1\n",
      "None\n"
     ]
    }
   ],
   "source": [
    "a = 10\n",
    "\n",
    "def fungsi_while(a):\n",
    "    while a > 0 :\n",
    "        print (a)\n",
    "        a -= 1\n",
    "\n",
    "print(fungsi_while(a))"
   ]
  },
  {
   "cell_type": "markdown",
   "metadata": {
    "colab_type": "text",
    "id": "lKzngRrlsrMD"
   },
   "source": [
    "Expected Output:\n",
    "\n",
    "10\n",
    "\n",
    "9\n",
    "\n",
    "8\n",
    "\n",
    "7\n",
    "\n",
    "6\n",
    "\n",
    "5\n",
    "\n",
    "4\n",
    "\n",
    "3\n",
    "\n",
    "2\n",
    "\n",
    "1"
   ]
  },
  {
   "cell_type": "markdown",
   "metadata": {
    "colab_type": "text",
    "id": "IWg3Z_zZsrMG"
   },
   "source": [
    "<h2>Soal 7: For Loop</h2>\n",
    "    \n",
    "Lengkapi kode untuk menghasilkan suatu output yang di harapkan:\n",
    "\n",
    "- Buatlah sebuah loop dengan mengiterasi sebuah objek list kemudian di kalikan dengan index dari list tersebut dan print hasilnya"
   ]
  },
  {
   "cell_type": "code",
   "execution_count": 16,
   "metadata": {
    "colab": {},
    "colab_type": "code",
    "id": "_Jl5i7WKsrMI"
   },
   "outputs": [
    {
     "name": "stdout",
     "output_type": "stream",
     "text": [
      "0\n",
      "16\n",
      "22\n",
      "30\n",
      "20\n"
     ]
    }
   ],
   "source": [
    "obj_list= [1, 16, 11, 10, 5]\n",
    "\n",
    "# For loop dengan index\n",
    "for index, obj_list in enumerate(obj_list):\n",
    "    print(int(obj_list)*index)\n"
   ]
  },
  {
   "cell_type": "markdown",
   "metadata": {
    "colab_type": "text",
    "id": "OGawROjnsrMU"
   },
   "source": [
    "Expected Output:\n",
    "\n",
    "0\n",
    "\n",
    "16\n",
    "\n",
    "22\n",
    "\n",
    "30\n",
    "\n",
    "20\n"
   ]
  }
 ],
 "metadata": {
  "colab": {
   "name": "Tugas Hari 4.ipynb",
   "provenance": []
  },
  "kernelspec": {
   "display_name": "Python 3",
   "language": "python",
   "name": "python3"
  },
  "language_info": {
   "codemirror_mode": {
    "name": "ipython",
    "version": 3
   },
   "file_extension": ".py",
   "mimetype": "text/x-python",
   "name": "python",
   "nbconvert_exporter": "python",
   "pygments_lexer": "ipython3",
   "version": "3.8.3"
  }
 },
 "nbformat": 4,
 "nbformat_minor": 1
}
